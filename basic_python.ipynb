{
  "nbformat": 4,
  "nbformat_minor": 0,
  "metadata": {
    "colab": {
      "provenance": []
    },
    "kernelspec": {
      "name": "python3",
      "display_name": "Python 3"
    },
    "language_info": {
      "name": "python"
    }
  },
  "cells": [
    {
      "cell_type": "code",
      "source": [
        "# Print a simple message\n",
        "print(\"Hello, World!\")"
      ],
      "metadata": {
        "id": "u9qr5f2V2JwZ",
        "colab": {
          "base_uri": "https://localhost:8080/"
        },
        "outputId": "fce04192-da80-442d-e2fe-18fe81f523bc"
      },
      "execution_count": 2,
      "outputs": [
        {
          "output_type": "stream",
          "name": "stdout",
          "text": [
            "Hello, World!\n"
          ]
        }
      ]
    },
    {
      "cell_type": "code",
      "source": [
        "# Integer\n",
        "a = 10\n",
        "# Float\n",
        "b = 20.5\n",
        "# String\n",
        "c = \"Python\"\n",
        "# Boolean\n",
        "d = True\n",
        "\n",
        "print(a, b, c, d)"
      ],
      "metadata": {
        "id": "gRl6Kh9g2Jsx",
        "colab": {
          "base_uri": "https://localhost:8080/"
        },
        "outputId": "8e7a6b00-1624-4fcb-d1d6-0d4716501801"
      },
      "execution_count": 1,
      "outputs": [
        {
          "output_type": "stream",
          "name": "stdout",
          "text": [
            "10 20.5 Python True\n"
          ]
        }
      ]
    },
    {
      "cell_type": "code",
      "source": [
        "# Taking input from the user\n",
        "name = input(\"Enter your name: \")\n",
        "print(f\"Hello, {name}!\")"
      ],
      "metadata": {
        "id": "5ufUSrO32JqH",
        "colab": {
          "base_uri": "https://localhost:8080/"
        },
        "outputId": "e2833821-05fb-44f6-d382-c2fbb036f686"
      },
      "execution_count": 3,
      "outputs": [
        {
          "output_type": "stream",
          "name": "stdout",
          "text": [
            "Enter your name: awaz\n",
            "Hello, awaz!\n"
          ]
        }
      ]
    },
    {
      "cell_type": "code",
      "source": [
        "# If-else example\n",
        "num = int(input(\"Enter a number: \"))\n",
        "if num > 0:\n",
        "    print(\"Positive number\")\n",
        "elif num == 0:\n",
        "    print(\"Zero\")\n",
        "else:\n",
        "    print(\"Negative number\")\n"
      ],
      "metadata": {
        "colab": {
          "base_uri": "https://localhost:8080/"
        },
        "id": "nU73iGFKTtGk",
        "outputId": "2b1670e1-6878-4e07-b547-46f8582d680c"
      },
      "execution_count": 4,
      "outputs": [
        {
          "output_type": "stream",
          "name": "stdout",
          "text": [
            "Enter a number: 54\n",
            "Positive number\n"
          ]
        }
      ]
    },
    {
      "cell_type": "code",
      "source": [
        "# For loop\n",
        "for i in range(5):\n",
        "    print(i)\n",
        "\n",
        "# While loop\n",
        "count = 0\n",
        "while count < 5:\n",
        "    print(count)\n",
        "    count += 1\n"
      ],
      "metadata": {
        "colab": {
          "base_uri": "https://localhost:8080/"
        },
        "id": "yBluJjnqTtDH",
        "outputId": "1c36dd39-e35b-4c25-8764-24f320b0ea2a"
      },
      "execution_count": 5,
      "outputs": [
        {
          "output_type": "stream",
          "name": "stdout",
          "text": [
            "0\n",
            "1\n",
            "2\n",
            "3\n",
            "4\n",
            "0\n",
            "1\n",
            "2\n",
            "3\n",
            "4\n"
          ]
        }
      ]
    },
    {
      "cell_type": "code",
      "source": [
        "# Function definition\n",
        "def greet(name):\n",
        "    return f\"Hello, {name}!\"\n",
        "\n",
        "# Function call\n",
        "print(greet(\"Alice\"))"
      ],
      "metadata": {
        "colab": {
          "base_uri": "https://localhost:8080/"
        },
        "id": "j9CWZdtvTtAs",
        "outputId": "f978d111-4c46-4b63-b9f2-f7c3d146d143"
      },
      "execution_count": 6,
      "outputs": [
        {
          "output_type": "stream",
          "name": "stdout",
          "text": [
            "Hello, Alice!\n"
          ]
        }
      ]
    }
  ]
}