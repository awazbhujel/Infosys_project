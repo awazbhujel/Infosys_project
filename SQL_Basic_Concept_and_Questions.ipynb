{
  "nbformat": 4,
  "nbformat_minor": 0,
  "metadata": {
    "colab": {
      "provenance": []
    },
    "kernelspec": {
      "name": "python3",
      "display_name": "Python 3"
    },
    "language_info": {
      "name": "python"
    }
  },
  "cells": [
    {
      "cell_type": "markdown",
      "source": [
        "𝐁𝐚𝐬𝐢𝐜 𝐒𝐐𝐋 𝐂𝐨𝐧𝐜𝐞𝐩𝐭𝐬:"
      ],
      "metadata": {
        "id": "8zK9cg9OuWmh"
      }
    },
    {
      "cell_type": "markdown",
      "source": [
        "1. What is SQL, and why is it important in data analytics?\n",
        "\n",
        "SQL (Structured Query Language) is a standard programming language used to manage and manipulate relational databases. It is essential in data analytics because it allows analysts to:\n",
        "\n",
        "1. Retrieve and filter large datasets efficiently.\n",
        "2. Perform operations like sorting, grouping, and aggregating data.\n",
        "3. Join multiple tables to extract meaningful insights.\n",
        "4. Insert, update, and delete records in databases."
      ],
      "metadata": {
        "id": "EQyAi_VXutNi"
      }
    },
    {
      "cell_type": "markdown",
      "source": [
        "2. Explain the difference between INNER JOIN, LEFT JOIN, RIGHT JOIN, and FULL OUTER JOIN.\n",
        "\n",
        "INNER JOIN: Returns only the rows where there is a match in both tables.\n",
        "\n",
        "LEFT JOIN: Returns all rows from the left table and matched rows from the right table. Unmatched rows in the right table will have NULL values.\n",
        "\n",
        "RIGHT JOIN: Returns all rows from the right table and matched rows from the left table. Unmatched rows in the left table will have NULL values.\n",
        "\n",
        "FULL OUTER JOIN: Returns rows when there is a match in one of the tables and includes unmatched rows from both tables with NULL for missing data."
      ],
      "metadata": {
        "id": "Pc0Mj06bu1dO"
      }
    },
    {
      "cell_type": "code",
      "execution_count": null,
      "metadata": {
        "id": "F9d8LSnuts3b"
      },
      "outputs": [],
      "source": [
        "-- Assume two tables: Employees and Departments\n",
        "SELECT Employees.Name, Departments.DeptName\n",
        "FROM Employees\n",
        "INNER JOIN Departments\n",
        "ON Employees.DeptID = Departments.DeptID;\n",
        "\n",
        "SELECT Employees.Name, Departments.DeptName\n",
        "FROM Employees\n",
        "left JOIN Departments\n",
        "ON Employees.DeptID = Departments.DeptID;\n"
      ]
    },
    {
      "cell_type": "markdown",
      "source": [
        "3. What is the difference between WHERE and HAVING clauses?\n",
        "\n",
        "WHERE: Filters rows before any grouping is performed.\n",
        "\n",
        "HAVING: Filters grouped records after an aggregation is applied."
      ],
      "metadata": {
        "id": "hUSrJ9ZavHYf"
      }
    },
    {
      "cell_type": "code",
      "source": [
        "-- WHERE example: Filter rows before grouping\n",
        "SELECT * FROM Sales WHERE Price > 500;\n",
        "\n",
        "-- HAVING example: Filter grouped results\n",
        "SELECT ProductID, SUM(Quantity) AS TotalQuantity\n",
        "FROM Sales\n",
        "GROUP BY ProductID\n",
        "HAVING SUM(Quantity) > 100;\n"
      ],
      "metadata": {
        "id": "FzoGg-bXu-ss"
      },
      "execution_count": null,
      "outputs": []
    },
    {
      "cell_type": "markdown",
      "source": [
        "4. How do you use GROUP BY and HAVING in a query?\n",
        "\n",
        "GROUP BY groups rows with the same values into summary rows.\n",
        "\n",
        "HAVING applies conditions to groups created by GROUP BY."
      ],
      "metadata": {
        "id": "kh0ks-stvSke"
      }
    },
    {
      "cell_type": "code",
      "source": [
        "SELECT Department, COUNT(EmployeeID) AS EmployeeCount\n",
        "FROM Employees\n",
        "GROUP BY Department\n",
        "HAVING COUNT(EmployeeID) > 10;"
      ],
      "metadata": {
        "id": "z2t15kjbvN3p"
      },
      "execution_count": null,
      "outputs": []
    },
    {
      "cell_type": "markdown",
      "source": [
        "5. Write a query to find duplicate records in a table."
      ],
      "metadata": {
        "id": "en1QUayevdcI"
      }
    },
    {
      "cell_type": "code",
      "source": [
        "SELECT Column1, Column2, COUNT(*)\n",
        "FROM TableName\n",
        "GROUP BY Column1, Column2\n",
        "HAVING COUNT(*) > 1;"
      ],
      "metadata": {
        "id": "Qj1zR_oZvdM3"
      },
      "execution_count": null,
      "outputs": []
    },
    {
      "cell_type": "markdown",
      "source": [
        "6. How do you retrieve unique values from a table using SQL?\n",
        "Use the DISTINCT keyword. Example:\n"
      ],
      "metadata": {
        "id": "KMy8MfdOviJu"
      }
    },
    {
      "cell_type": "code",
      "source": [
        "SELECT DISTINCT ColumnName FROM TableName;"
      ],
      "metadata": {
        "id": "9WnpcwgAvYgu"
      },
      "execution_count": null,
      "outputs": []
    },
    {
      "cell_type": "markdown",
      "source": [
        "7. Explain the use of aggregate functions like COUNT(), SUM(), AVG(), MIN(), and MAX().\n",
        "\n",
        "Aggregate functions perform calculations on a set of values and return a single value:\n",
        "\n",
        "COUNT(): Counts the number of rows.\n",
        "\n",
        "SUM(): Calculates the total sum.\n",
        "\n",
        "AVG(): Finds the average value.\n",
        "\n",
        "MIN(): Retrieves the smallest value.\n",
        "\n",
        "MAX(): Retrieves the largest value."
      ],
      "metadata": {
        "id": "YJzvve8avnl8"
      }
    },
    {
      "cell_type": "code",
      "source": [
        "SELECT\n",
        "    COUNT(*) AS TotalRows,\n",
        "    SUM(Salary) AS TotalSalary,\n",
        "    AVG(Salary) AS AverageSalary,\n",
        "    MIN(Salary) AS MinimumSalary,\n",
        "    MAX(Salary) AS MaximumSalary\n",
        "FROM Employees;\n"
      ],
      "metadata": {
        "id": "0peq4p3MvlIX"
      },
      "execution_count": null,
      "outputs": []
    },
    {
      "cell_type": "markdown",
      "source": [
        "8. What is the purpose of the DISTINCT keyword in SQL? Explain with queries.\n",
        "The DISTINCT keyword removes duplicate rows from the result set and returns unique values.\n",
        "\n"
      ],
      "metadata": {
        "id": "agwWMYpgvxVd"
      }
    },
    {
      "cell_type": "code",
      "source": [
        "SELECT DISTINCT Department FROM Employees;"
      ],
      "metadata": {
        "id": "YLNahmwdvtf2"
      },
      "execution_count": null,
      "outputs": []
    },
    {
      "cell_type": "markdown",
      "source": [
        "𝐈𝐧𝐭𝐞𝐫𝐦𝐞𝐝𝐢𝐚𝐭𝐞 𝐒𝐐𝐋:"
      ],
      "metadata": {
        "id": "c27-vp9_v_C6"
      }
    },
    {
      "cell_type": "markdown",
      "source": [
        "1. Write a query to find the second-highest salary from an employee table."
      ],
      "metadata": {
        "id": "ZFalaipiwGj9"
      }
    },
    {
      "cell_type": "code",
      "source": [
        "SELECT MAX(Salary) AS SecondHighestSalary\n",
        "FROM Employees\n",
        "WHERE Salary < (SELECT MAX(Salary) FROM Employees);"
      ],
      "metadata": {
        "id": "zx7gxBqtvtcm"
      },
      "execution_count": null,
      "outputs": []
    },
    {
      "cell_type": "markdown",
      "source": [
        "Explanation:\n",
        "\n",
        "The inner query (SELECT MAX(Salary) FROM Employees) finds the highest salary.\n",
        "\n",
        "The outer query finds the maximum salary below the highest, giving the second-highest salary."
      ],
      "metadata": {
        "id": "N-ATjFYjwNCU"
      }
    },
    {
      "cell_type": "markdown",
      "source": [
        "2. What are subqueries, and how do you use them?\n",
        "Subqueries are nested queries used inside another SQL query. They can return single values, multiple values, or entire tables and are used for filtering, calculations, or data transformation.\n",
        "\n",
        "Example:\n",
        "\n",
        "Find employees earning more than the average salary:"
      ],
      "metadata": {
        "id": "ac7FxXhbwRGg"
      }
    },
    {
      "cell_type": "code",
      "source": [
        "SELECT Name, Salary\n",
        "FROM Employees\n",
        "WHERE Salary > (SELECT AVG(Salary) FROM Employees);"
      ],
      "metadata": {
        "id": "KCOaCyCwwKCb"
      },
      "execution_count": null,
      "outputs": []
    },
    {
      "cell_type": "markdown",
      "source": [
        "Explanation: The subquery (SELECT AVG(Salary) FROM Employees) calculates the average salary, and the main query retrieves employees whose salary is above this value"
      ],
      "metadata": {
        "id": "5NIOCEyWwVgT"
      }
    },
    {
      "cell_type": "markdown",
      "source": [
        "3. What is a Common Table Expression (CTE)? Give an example of when to use it.\n",
        "A Common Table Expression (CTE) is a temporary result set that exists for the duration of a query. It is defined using the WITH keyword and is useful for improving readability and reusing result sets."
      ],
      "metadata": {
        "id": "UORYSUdRwYom"
      }
    },
    {
      "cell_type": "code",
      "source": [
        "WITH EmployeeCTE AS (\n",
        "    SELECT EmployeeID, Department, Salary\n",
        "    FROM Employees\n",
        "    WHERE Salary > 5000\n",
        ")\n",
        "SELECT Department, COUNT(EmployeeID) AS HighEarners\n",
        "FROM EmployeeCTE\n",
        "GROUP BY Department;\n"
      ],
      "metadata": {
        "id": "7NMd-TqxwJ_A"
      },
      "execution_count": null,
      "outputs": []
    },
    {
      "cell_type": "markdown",
      "source": [
        "When to use:\n",
        "\n",
        "When a query is complex and involves multiple temporary results.\n",
        "\n",
        "When you need to reuse a query result multiple times within a query."
      ],
      "metadata": {
        "id": "9f3F66ygwdsn"
      }
    },
    {
      "cell_type": "markdown",
      "source": [
        "4. Explain window functions like ROW_NUMBER(), RANK(), and DENSE_RANK().\n",
        "Window functions operate on a subset of rows (a \"window\") defined by the OVER clause.\n",
        "\n",
        "ROW_NUMBER(): Assigns a unique rank to each row within the window. No ties.\n",
        "\n",
        "RANK(): Assigns ranks with gaps for ties.\n",
        "\n",
        "DENSE_RANK(): Assigns ranks without gaps for ties."
      ],
      "metadata": {
        "id": "DJS61ie8wiTb"
      }
    },
    {
      "cell_type": "code",
      "source": [
        "SELECT Name, Department, Salary,\n",
        "    ROW_NUMBER() OVER (PARTITION BY Department ORDER BY Salary DESC) AS RowNumber,\n",
        "    RANK() OVER (PARTITION BY Department ORDER BY Salary DESC) AS Rank,\n",
        "    DENSE_RANK() OVER (PARTITION BY Department ORDER BY Salary DESC) AS DenseRank\n",
        "FROM Employees;\n"
      ],
      "metadata": {
        "id": "P0UHelrcwJ8m"
      },
      "execution_count": null,
      "outputs": []
    },
    {
      "cell_type": "markdown",
      "source": [
        "Explanation:\n",
        "\n",
        "ROW_NUMBER(): Consecutive numbers regardless of ties.\n",
        "\n",
        "RANK(): Skips numbers after ties.\n",
        "\n",
        "DENSE_RANK(): No skipped numbers."
      ],
      "metadata": {
        "id": "JVLhKDhKwomH"
      }
    },
    {
      "cell_type": "markdown",
      "source": [
        "5. How do you combine results of two queries using UNION and UNION ALL?\n",
        "\n",
        "UNION: Combines results from two queries and removes duplicates.\n",
        "\n",
        "UNION ALL: Combines results from two queries without removing duplicates."
      ],
      "metadata": {
        "id": "UpD0LKTdwss4"
      }
    },
    {
      "cell_type": "code",
      "source": [
        "-- UNION: Removes duplicates\n",
        "SELECT Name FROM Employees\n",
        "UNION\n",
        "SELECT Name FROM Contractors;\n",
        "\n",
        "-- UNION ALL: Keeps duplicates\n",
        "SELECT Name FROM Employees\n",
        "UNION ALL\n",
        "SELECT Name FROM Contractors;\n"
      ],
      "metadata": {
        "id": "6c0Dgs0OwJ5q"
      },
      "execution_count": null,
      "outputs": []
    },
    {
      "cell_type": "markdown",
      "source": [
        "Use Case:\n",
        "\n",
        "Use UNION when duplicates are irrelevant.\n",
        "\n",
        "Use UNION ALL for better performance if duplicates are acceptable."
      ],
      "metadata": {
        "id": "Vp2BZYxfw1jo"
      }
    },
    {
      "cell_type": "markdown",
      "source": [
        "6. What are indexes in SQL, and how do they improve query performance?\n",
        "An index is a data structure that improves the speed of data retrieval operations in a table by maintaining a sorted order of columns.\n",
        "\n",
        "Benefits:\n",
        "\n",
        "Faster SELECT queries, especially for large datasets.\n",
        "\n",
        "Efficient searching and filtering with WHERE, JOIN, and ORDER BY."
      ],
      "metadata": {
        "id": "8dSPKzBVw4j1"
      }
    },
    {
      "cell_type": "code",
      "source": [
        "CREATE INDEX idx_employee_name ON Employees (Name);"
      ],
      "metadata": {
        "id": "Wa0ceo28wJ3E"
      },
      "execution_count": null,
      "outputs": []
    },
    {
      "cell_type": "markdown",
      "source": [
        "Consideration:\n",
        "\n",
        "Indexes improve SELECT performance but may slow down INSERT, UPDATE, and DELETE operations."
      ],
      "metadata": {
        "id": "Dg1RE0aaxAr8"
      }
    },
    {
      "cell_type": "markdown",
      "source": [
        "7. Write a query to calculate the total sales for each month using GROUP BY. Explain in detail."
      ],
      "metadata": {
        "id": "eqTOB4qdxEA_"
      }
    },
    {
      "cell_type": "code",
      "source": [
        "SELECT\n",
        "    YEAR(SaleDate) AS Year,\n",
        "    MONTH(SaleDate) AS Month,\n",
        "    SUM(SaleAmount) AS TotalSales\n",
        "FROM Sales\n",
        "GROUP BY YEAR(SaleDate), MONTH(SaleDate)\n",
        "ORDER BY Year, Month;\n"
      ],
      "metadata": {
        "id": "DOFYgNPewJ0a"
      },
      "execution_count": null,
      "outputs": []
    },
    {
      "cell_type": "markdown",
      "source": [
        "Explanation:\n",
        "\n",
        "YEAR(SaleDate) and MONTH(SaleDate): Extract the year and month from the SaleDate column.\n",
        "\n",
        "SUM(SaleAmount): Calculates the total sales for each group (month).\n",
        "\n",
        "GROUP BY YEAR(SaleDate), MONTH(SaleDate): Groups the data by year and month.\n",
        "\n",
        "ORDER BY Year, Month: Sorts the results in chronological order."
      ],
      "metadata": {
        "id": "fOZNGa52xI4P"
      }
    },
    {
      "cell_type": "markdown",
      "source": [
        "𝐀𝐝𝐯𝐚𝐧𝐜𝐞𝐝 𝐒𝐐𝐋:"
      ],
      "metadata": {
        "id": "USID8rjYxQNj"
      }
    },
    {
      "cell_type": "markdown",
      "source": [
        "1. How do you optimize a slow-running SQL query?\n",
        "To optimize a slow-running SQL query, consider the following techniques:\n",
        "\n",
        "1. Indexes:\n",
        "\n",
        "Use indexes on frequently queried columns, especially those in WHERE, JOIN, and\n",
        "\n",
        "ORDER BY clauses.\n",
        "\n",
        "Example: CREATE INDEX idx_column_name ON TableName (ColumnName);\n",
        "\n",
        "2. Avoid SELECT*:\n",
        "\n",
        "Select only necessary columns instead of using SELECT *.\n",
        "3. Analyze Query Execution Plan:\n",
        "\n",
        "Use EXPLAIN or EXPLAIN ANALYZE to understand how the query is executed and identify bottlenecks.\n",
        "4. Use Proper Joins:\n",
        "\n",
        "Choose the appropriate join type (e.g., INNER JOIN vs. OUTER JOIN).\n",
        "5. Limit Result Sets:\n",
        "\n",
        "Use LIMIT to reduce the number of rows returned when testing or fetching top records.\n",
        "6. Filter Early:\n",
        "\n",
        "Apply WHERE conditions to reduce data size before grouping or joining.\n",
        "7. Optimize Subqueries:\n",
        "\n",
        "Convert subqueries to JOIN or use Common Table Expressions (CTEs).\n",
        "8. Partitioning:\n",
        "\n",
        "Use table partitioning to manage large datasets more efficiently.\n",
        "9. Avoid Functions in WHERE Clauses:\n",
        "\n",
        "Avoid wrapping columns in functions (e.g., WHERE YEAR(DateColumn) = 2023) as it may prevent index usage."
      ],
      "metadata": {
        "id": "v45jxehDxVK7"
      }
    },
    {
      "cell_type": "markdown",
      "source": [
        "2. What are views in SQL, and when would you use them?\n",
        "\n",
        "A view is a virtual table based on a SQL query. It does not store data but provides a way to encapsulate complex queries for easy reuse.\n",
        "\n",
        "When to use views:\n",
        "\n",
        "Simplify complex queries.\n",
        "\n",
        "Provide abstraction for security by limiting access to underlying tables.\n",
        "\n",
        "Improve code readability and maintainability."
      ],
      "metadata": {
        "id": "4vLuEj3Zxywh"
      }
    },
    {
      "cell_type": "code",
      "source": [
        "CREATE VIEW EmployeeSalaries AS\n",
        "SELECT Name, Department, Salary\n",
        "FROM Employees\n",
        "WHERE Salary > 5000;\n",
        "\n",
        "-- Use the view\n",
        "SELECT * FROM EmployeeSalaries;\n"
      ],
      "metadata": {
        "id": "2Tc2i8sgwJxy"
      },
      "execution_count": null,
      "outputs": []
    },
    {
      "cell_type": "markdown",
      "source": [
        "3. What is the difference between a stored procedure and a function in SQL?\n",
        "\n",
        "1. Purpose:\n",
        "\n",
        "Stored Procedure: Used to perform a series of operations such as modifying data, running queries, or invoking other procedures.\n",
        "Function: Designed to return a single value or table and is typically used for computations.\n",
        "2. Return Type:\n",
        "\n",
        "Stored Procedure: Can return multiple values via OUT parameters but does not have a direct return statement.\n",
        "Function: Must return a value or table using a RETURN statement.\n",
        "3. Usage in SQL Queries:\n",
        "\n",
        "Stored Procedure: Cannot be called directly in a SELECT, WHERE, or other SQL clauses.\n",
        "Function: Can be used directly in SELECT, WHERE, GROUP BY, etc.\n",
        "4. Transaction Control:\n",
        "\n",
        "Stored Procedure: Supports transaction control commands (BEGIN, COMMIT, ROLLBACK) within its body.\n",
        "Function: Does not support transaction control."
      ],
      "metadata": {
        "id": "4pIu1nZLyDX6"
      }
    },
    {
      "cell_type": "code",
      "source": [
        "--Example Stored Procedure:\n",
        "\n",
        "CREATE PROCEDURE UpdateSalary (IN EmployeeID INT, IN Increment INT)\n",
        "BEGIN\n",
        "    UPDATE Employees\n",
        "    SET Salary = Salary + Increment\n",
        "    WHERE ID = EmployeeID;\n",
        "END;\n"
      ],
      "metadata": {
        "id": "AedXQTpVx57r"
      },
      "execution_count": null,
      "outputs": []
    },
    {
      "cell_type": "code",
      "source": [
        "--Example Function:\n",
        "\n",
        "CREATE FUNCTION GetAverageSalary() RETURNS DECIMAL(10, 2)\n",
        "BEGIN\n",
        "    RETURN (SELECT AVG(Salary) FROM Employees);\n",
        "END;"
      ],
      "metadata": {
        "id": "pByy2ZQxx54e"
      },
      "execution_count": null,
      "outputs": []
    },
    {
      "cell_type": "markdown",
      "source": [
        "4. Explain the difference between TRUNCATE, DELETE, and DROP commands.\n",
        "\n",
        "TRUNCATE: For removing all rows quickly without logging individual deletions.\n",
        "\n",
        "DELETE: For fine-grained deletion with conditions and logging.\n",
        "\n",
        "DROP: For completely removing the table or database from the system."
      ],
      "metadata": {
        "id": "qrK75SU2yrkR"
      }
    },
    {
      "cell_type": "code",
      "source": [
        "TRUNCATE TABLE Employees; -- Removes all rows.\n",
        "DELETE FROM Employees WHERE Department = 'HR'; -- Removes specific rows.\n",
        "DROP TABLE Employees; -- Removes the table.\n"
      ],
      "metadata": {
        "id": "SE-htZccyQa6"
      },
      "execution_count": null,
      "outputs": []
    },
    {
      "cell_type": "markdown",
      "source": [
        "5. What Are Windowing Functions, and How Are They Used in Analytics?\n",
        "\n",
        "Windowing Functions are SQL functions that operate on a subset of rows (referred to as a \"window\") and return a value for each row within that subset. Unlike aggregate functions, which collapse rows into a single result, window functions preserve the individual rows while providing additional insights.\n",
        "\n",
        "Uses in Analytics:\n",
        "\n",
        "Ranking: Assign ranks to rows based on a specific order (e.g., RANK(), DENSE_RANK()).\n",
        "\n",
        "Aggregations: Calculate running totals, averages, and other cumulative metrics.\n",
        "Offsets: Retrieve values from preceding or following rows (LAG(), LEAD()).\n",
        "\n",
        "Percentiles: Calculate distribution-based statistics like percentiles.\n",
        "\n",
        "Example:\n",
        "Calculate the cumulative salary for employees:"
      ],
      "metadata": {
        "id": "-TPqHrNx0AZt"
      }
    },
    {
      "cell_type": "code",
      "source": [
        "SELECT\n",
        "    EmployeeID,\n",
        "    Department,\n",
        "    Salary,\n",
        "    SUM(Salary) OVER (PARTITION BY Department ORDER BY EmployeeID) AS CumulativeSalary\n",
        "FROM Employees;\n"
      ],
      "metadata": {
        "id": "PeFUPc6Y0AMH"
      },
      "execution_count": null,
      "outputs": []
    },
    {
      "cell_type": "markdown",
      "source": [
        "6. How Do You Use PARTITION BY and ORDER BY in Window Functions?\n",
        "\n",
        "PARTITION BY: Divides the dataset into partitions or groups for window functions to operate on independently.\n",
        "\n",
        "ORDER BY: Defines the order of rows within each partition for window calculations."
      ],
      "metadata": {
        "id": "7izo1u0a0J0o"
      }
    },
    {
      "cell_type": "code",
      "source": [
        "--Using PARTITION BY Only: Calculate the total salary for each department:\n",
        "\n",
        "SELECT\n",
        "    EmployeeID,\n",
        "    Department,\n",
        "    Salary,\n",
        "    SUM(Salary) OVER (PARTITION BY Department) AS TotalDepartmentSalary\n",
        "FROM Employees;"
      ],
      "metadata": {
        "id": "yAWRkg0O0AIl"
      },
      "execution_count": null,
      "outputs": []
    },
    {
      "cell_type": "code",
      "source": [
        "--Using Both PARTITION BY and ORDER BY: Calculate the rank of employees by salary within each department:\n",
        "\n",
        "SELECT\n",
        "    EmployeeID,\n",
        "    Department,\n",
        "    Salary,\n",
        "    RANK() OVER (PARTITION BY Department ORDER BY Salary DESC) AS RankInDepartment\n",
        "FROM Employees;"
      ],
      "metadata": {
        "id": "oSlljgrr0AFz"
      },
      "execution_count": null,
      "outputs": []
    },
    {
      "cell_type": "markdown",
      "source": [
        "7. How Do You Handle NULL Values in SQL, and What Functions Help With That?\n",
        "Handling NULL Values is crucial in SQL to avoid incorrect results in calculations and comparisons. Several functions and techniques are available:\n",
        "\n",
        "Functions to Handle NULLs:\n",
        "COALESCE():\n",
        "\n",
        "Returns the first non-NULL value from the arguments provided."
      ],
      "metadata": {
        "id": "1pjk_lp70XG-"
      }
    },
    {
      "cell_type": "code",
      "source": [
        "SELECT COALESCE(PhoneNumber, 'Not Available') AS PhoneNumber\n",
        "FROM Employees;"
      ],
      "metadata": {
        "id": "581e2L-g0AC-"
      },
      "execution_count": null,
      "outputs": []
    },
    {
      "cell_type": "markdown",
      "source": [
        "ISNULL() (SQL Server):\n",
        "\n",
        "Replaces NULL with a specified value.\n",
        "Example:"
      ],
      "metadata": {
        "id": "BMIDmnku0jv8"
      }
    },
    {
      "cell_type": "code",
      "source": [
        "SELECT ISNULL(Salary, 0) AS Salary\n",
        "FROM Employees;"
      ],
      "metadata": {
        "id": "Kyz2z-8g0AAN"
      },
      "execution_count": null,
      "outputs": []
    },
    {
      "cell_type": "markdown",
      "source": [
        "IFNULL() (MySQL):\n",
        "\n",
        "Replaces NULL with a specified value.\n",
        "Example:\n",
        "\n"
      ],
      "metadata": {
        "id": "BTK22paF0oq0"
      }
    },
    {
      "cell_type": "code",
      "source": [
        "SELECT IFNULL(Bonus, 0) AS Bonus\n",
        "FROM Employees;"
      ],
      "metadata": {
        "id": "8FhTpRdW0mKZ"
      },
      "execution_count": null,
      "outputs": []
    },
    {
      "cell_type": "markdown",
      "source": [
        "Handling NULLs in Conditions:\n",
        "Use IS NULL and IS NOT NULL for filtering:"
      ],
      "metadata": {
        "id": "KxwpomKg0wzd"
      }
    },
    {
      "cell_type": "code",
      "source": [
        "SELECT * FROM Employees WHERE Bonus IS NULL;"
      ],
      "metadata": {
        "id": "Fp7plQw-0mHP"
      },
      "execution_count": null,
      "outputs": []
    },
    {
      "cell_type": "markdown",
      "source": [
        "LAG and LEAD Functions in SQL"
      ],
      "metadata": {
        "id": "AnLzfucT03y5"
      }
    },
    {
      "cell_type": "markdown",
      "source": [
        "The LAG and LEAD functions are window functions that allow you to access data from a previous or subsequent row, respectively, within the same result set.\n",
        "\n",
        "1. LAG Function\n",
        "The LAG function fetches data from a row before the current row in the same result set."
      ],
      "metadata": {
        "id": "DkD6HKmB07r4"
      }
    },
    {
      "cell_type": "code",
      "source": [
        "LAG(column_name, offset, default_value) OVER (PARTITION BY column_name ORDER BY column_name)"
      ],
      "metadata": {
        "id": "Q_HG42lkz_9t"
      },
      "execution_count": null,
      "outputs": []
    },
    {
      "cell_type": "markdown",
      "source": [
        "column_name: The column to retrieve the value from.\n",
        "\n",
        "offset: The number of rows before the current row (default is 1).\n",
        "\n",
        "default_value: The value to return if no preceding row exists (optional)."
      ],
      "metadata": {
        "id": "8_ikp8BE1BVJ"
      }
    },
    {
      "cell_type": "code",
      "source": [
        "--Get the previous month's sales for each row:\n",
        "\n",
        "SELECT\n",
        "    Month,\n",
        "    Sales,\n",
        "    LAG(Sales, 1, 0) OVER (ORDER BY Month) AS PreviousMonthSales\n",
        "FROM SalesData;"
      ],
      "metadata": {
        "id": "ur_mteIo1EFL"
      },
      "execution_count": null,
      "outputs": []
    },
    {
      "cell_type": "markdown",
      "source": [
        "2. LEAD Function\n",
        "The LEAD function fetches data from a row after the current row in the same result set."
      ],
      "metadata": {
        "id": "GHEgC0sI1Lzh"
      }
    },
    {
      "cell_type": "code",
      "source": [
        "--Get the next month's sales for each row:\n",
        "SELECT\n",
        "    Month,\n",
        "    Sales,\n",
        "    LEAD(Sales, 1, 0) OVER (ORDER BY Month) AS NextMonthSales\n",
        "FROM SalesData;\n"
      ],
      "metadata": {
        "id": "YdV3eQA81D85"
      },
      "execution_count": null,
      "outputs": []
    },
    {
      "cell_type": "code",
      "source": [],
      "metadata": {
        "id": "I_KeVM7p1D5g"
      },
      "execution_count": null,
      "outputs": []
    },
    {
      "cell_type": "code",
      "source": [],
      "metadata": {
        "id": "cK1jWjAH1DQo"
      },
      "execution_count": null,
      "outputs": []
    }
  ]
}