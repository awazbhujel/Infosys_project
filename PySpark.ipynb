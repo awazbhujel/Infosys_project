{
  "nbformat": 4,
  "nbformat_minor": 0,
  "metadata": {
    "colab": {
      "provenance": []
    },
    "kernelspec": {
      "name": "python3",
      "display_name": "Python 3"
    },
    "language_info": {
      "name": "python"
    }
  },
  "cells": [
    {
      "cell_type": "markdown",
      "source": [
        "**What is PySpark?**\n",
        "\n",
        "PySpark allows Python developers to use Spark for large-scale data processing. It combines the scalability and speed of Spark with the simplicity of Python, making it a popular choice for data engineers, data scientists, and analysts."
      ],
      "metadata": {
        "id": "p-i3rgLDXb3z"
      }
    },
    {
      "cell_type": "markdown",
      "source": [
        "Advantages of PySpark\n",
        "\n",
        "1. Open-source and free to use.\n",
        "2. Handles large-scale data processing with ease.\n",
        "3. Combines the simplicity of Python with the performance of Spark.\n",
        "4. Extensive community support and documentation."
      ],
      "metadata": {
        "id": "j8aLPR6NXh1m"
      }
    },
    {
      "cell_type": "code",
      "source": [
        "!pip install pyspark"
      ],
      "metadata": {
        "colab": {
          "base_uri": "https://localhost:8080/"
        },
        "id": "c8OkmCWIXukD",
        "outputId": "9af16489-6b01-4e48-b2c3-a248e54c8fcd"
      },
      "execution_count": 1,
      "outputs": [
        {
          "output_type": "stream",
          "name": "stdout",
          "text": [
            "Requirement already satisfied: pyspark in /usr/local/lib/python3.10/dist-packages (3.5.3)\n",
            "Requirement already satisfied: py4j==0.10.9.7 in /usr/local/lib/python3.10/dist-packages (from pyspark) (0.10.9.7)\n"
          ]
        }
      ]
    },
    {
      "cell_type": "code",
      "source": [
        "import pyspark\n",
        "print(pyspark.__version__)"
      ],
      "metadata": {
        "colab": {
          "base_uri": "https://localhost:8080/"
        },
        "id": "8pRhN_L7Xugl",
        "outputId": "02fb521a-21ff-4df4-8155-34b809a04168"
      },
      "execution_count": 2,
      "outputs": [
        {
          "output_type": "stream",
          "name": "stdout",
          "text": [
            "3.5.3\n"
          ]
        }
      ]
    },
    {
      "cell_type": "code",
      "source": [
        "# Sample data\n",
        "data = [(\"Alice\", 29), (\"Bob\", 35), (\"Cathy\", 45)]\n",
        "columns = [\"Name\", \"Age\"]\n",
        "\n",
        "# Create DataFrame\n",
        "df = spark.createDataFrame(data, schema=columns)\n",
        "\n",
        "# Show the DataFrame\n",
        "df.show()"
      ],
      "metadata": {
        "colab": {
          "base_uri": "https://localhost:8080/"
        },
        "id": "r5xdQkoBXubb",
        "outputId": "1ea48191-224f-41db-f579-f3b6a900b4a7"
      },
      "execution_count": 8,
      "outputs": [
        {
          "output_type": "stream",
          "name": "stdout",
          "text": [
            "+-----+---+\n",
            "| Name|Age|\n",
            "+-----+---+\n",
            "|Alice| 29|\n",
            "|  Bob| 35|\n",
            "|Cathy| 45|\n",
            "+-----+---+\n",
            "\n"
          ]
        }
      ]
    },
    {
      "cell_type": "code",
      "source": [
        "# Filter rows where age > 30\n",
        "filtered_df = df.filter(df.Age > 30)\n",
        "filtered_df.show()"
      ],
      "metadata": {
        "colab": {
          "base_uri": "https://localhost:8080/"
        },
        "id": "sRF61eYgXuYt",
        "outputId": "a7fe13b4-2d54-424e-afee-3727f8e665c9"
      },
      "execution_count": 9,
      "outputs": [
        {
          "output_type": "stream",
          "name": "stdout",
          "text": [
            "+-----+---+\n",
            "| Name|Age|\n",
            "+-----+---+\n",
            "|  Bob| 35|\n",
            "|Cathy| 45|\n",
            "+-----+---+\n",
            "\n"
          ]
        }
      ]
    },
    {
      "cell_type": "code",
      "source": [
        "# Select the Name column\n",
        "name_df = df.select(\"Name\")\n",
        "name_df.show()"
      ],
      "metadata": {
        "colab": {
          "base_uri": "https://localhost:8080/"
        },
        "id": "S21f4Kf0XuTg",
        "outputId": "6cde8736-c9d7-4e88-b1c0-7dd7cb6368e6"
      },
      "execution_count": 10,
      "outputs": [
        {
          "output_type": "stream",
          "name": "stdout",
          "text": [
            "+-----+\n",
            "| Name|\n",
            "+-----+\n",
            "|Alice|\n",
            "|  Bob|\n",
            "|Cathy|\n",
            "+-----+\n",
            "\n"
          ]
        }
      ]
    },
    {
      "cell_type": "code",
      "execution_count": 11,
      "metadata": {
        "colab": {
          "base_uri": "https://localhost:8080/"
        },
        "id": "QTRU-6kjV5VK",
        "outputId": "e055a333-b651-4596-a610-6790df1fac05"
      },
      "outputs": [
        {
          "output_type": "stream",
          "name": "stdout",
          "text": [
            "+-----+---+--------------+\n",
            "| Name|Age|Age_in_5_years|\n",
            "+-----+---+--------------+\n",
            "|Alice| 29|            34|\n",
            "|  Bob| 35|            40|\n",
            "|Cathy| 45|            50|\n",
            "+-----+---+--------------+\n",
            "\n"
          ]
        }
      ],
      "source": [
        "# Add a new column 'Age_in_5_years'\n",
        "df_with_new_column = df.withColumn(\"Age_in_5_years\", df.Age + 5)\n",
        "df_with_new_column.show()"
      ]
    },
    {
      "cell_type": "code",
      "source": [
        "# Find the maximum salary\n",
        "agg_df.agg({\"Salary\": \"max\"}).show()"
      ],
      "metadata": {
        "colab": {
          "base_uri": "https://localhost:8080/"
        },
        "id": "Db9YVh97ZFz5",
        "outputId": "b34c4d20-221c-4c97-fb1c-9e2aa4ae4ace"
      },
      "execution_count": 16,
      "outputs": [
        {
          "output_type": "stream",
          "name": "stdout",
          "text": [
            "+-----------+\n",
            "|max(Salary)|\n",
            "+-----------+\n",
            "|       6000|\n",
            "+-----------+\n",
            "\n"
          ]
        }
      ]
    },
    {
      "cell_type": "code",
      "source": [
        "# Count the number of rows\n",
        "count = df.count()\n",
        "print(f\"Row Count: {count}\")"
      ],
      "metadata": {
        "colab": {
          "base_uri": "https://localhost:8080/"
        },
        "id": "opACMe5mZFxc",
        "outputId": "05704ec1-3575-461b-f93d-f4593297d864"
      },
      "execution_count": 17,
      "outputs": [
        {
          "output_type": "stream",
          "name": "stdout",
          "text": [
            "Row Count: 3\n"
          ]
        }
      ]
    },
    {
      "cell_type": "code",
      "source": [],
      "metadata": {
        "id": "2PAuBHvFZFu3"
      },
      "execution_count": null,
      "outputs": []
    }
  ]
}